{
 "cells": [
  {
   "cell_type": "markdown",
   "id": "2283b9bb-1eba-4c04-b87c-3c34468c4add",
   "metadata": {
    "tags": []
   },
   "source": [
    "<h1><font style=\"background: linear-gradient(to right,gold, red,pink, green);-webkit-background-clip: text;-webkit-text-fill-color: transparent;\">SDXL模型的使用</font></h1>\n",
    "\n",
    "**使用类来避免重复加载模型**\n",
    "\n",
    "\n",
    "需要`32G` gpu环境。\n",
    "![](https://ai-studio-static-online.cdn.bcebos.com/18040721087745f4bbae0720f754917000d387bd1ad14c3c9ba3e5721585c49a)\n",
    "\n",
    "*注意：每个模块都是比较占用内存，记得重启内核*"
   ]
  },
  {
   "cell_type": "markdown",
   "id": "6409de4f-0a14-4d2a-a8bc-2b5852a0de72",
   "metadata": {},
   "source": [
    "## 环境准备\n",
    "\n",
    "运行完后需要`重启内核`，以加载新安装依赖。"
   ]
  },
  {
   "cell_type": "code",
   "execution_count": null,
   "id": "7b154148-19bf-4c22-96b9-9a15651128bd",
   "metadata": {
    "scrolled": true,
    "tags": []
   },
   "outputs": [],
   "source": [
    "import os\n",
    "\n",
    "evn='''paddlenlp==2.7.2 \n",
    "einops\n",
    "insightface \n",
    "onnxruntime \n",
    "gradio==3.40.0\n",
    "munch \n",
    "scikit-image \n",
    "natsort\n",
    "regex\n",
    "'''\n",
    "with open(\"./requirements.txt\", \"w\", encoding=\"utf-8\") as fp:\n",
    "    fp.writelines(evn)\n",
    "\n",
    "os.system(\"pip install -q -r requirements.txt --user\")\n"
   ]
  },
  {
   "cell_type": "markdown",
   "id": "3ae2651f-2358-41bf-b1c2-a366e9264359",
   "metadata": {},
   "source": [
    "## Demo\n",
    "用于测试api。"
   ]
  },
  {
   "cell_type": "code",
   "execution_count": null,
   "id": "e9b8d838-b9b0-42ab-9db7-0403697d0a57",
   "metadata": {
    "scrolled": true
   },
   "outputs": [],
   "source": [
    "from PIL import Image\n",
    "\n",
    "# 生成结果批量保存\n",
    "def multi_type_images_save(image, fn, suffix='png'):  \n",
    "    try:\n",
    "        image = image if not isinstance(image, (np.ndarray, paddle.Tensor)) \\\n",
    "            else Image.fromarray(image.numpy()) if isinstance(image, paddle.Tensor) \\\n",
    "            else Image.fromarray(image) \n",
    "        img = load_image(image)\n",
    "        # 保存图像  \n",
    "        img.save(fn + '.' + suffix)\n",
    "    except Exception as e:\n",
    "        print(e)\n",
    "    \n",
    "def batch_save(images, base_fn, suffix='png'): \n",
    "    \"\"\"\n",
    "    批量保存pil、numpy、pd或path的图片。\n",
    "    Args：\n",
    "        images：\n",
    "            图片，支持pil、numpy、path的单个或者嵌套list对象；\n",
    "        base_fn：\n",
    "            保存文件的名称。\n",
    "    Exmaple：\n",
    "        from PIL import Image  \n",
    "        import numpy as np  \n",
    "        import paddle\n",
    "\n",
    "        arr = np.random.randint(0, 256, (100, 100, 3), dtype=np.uint8)\n",
    "\n",
    "        pd = paddle.to_tensor(np.random.randint(0, 256, (100, 100, 3), dtype=np.uint8))\n",
    "        multi_dtype_images_save(image=arr, fn='test_pd', suffix='png')\n",
    "\n",
    "        pil = Image.open('test_pd.png')\n",
    "\n",
    "        images=arr\n",
    "        batch_save(images, base_fn=\"test_\")\n",
    "        images=[[arr], pil, pd]\n",
    "        batch_save(images, base_fn=\"test_\")\n",
    "    \"\"\"\n",
    "    \n",
    "    if not isinstance(images, list):\n",
    "        multi_type_images_save(images, base_fn, suffix)\n",
    "        return \n",
    "    for i, image in enumerate(images):  \n",
    "        base_fn = f\"{base_fn.split('_')[0]}_{i}\" \n",
    "        batch_save(image, base_fn, suffix=suffix)"
   ]
  },
  {
   "cell_type": "code",
   "execution_count": null,
   "id": "f9b75411-975a-49bf-b950-9e7af3230129",
   "metadata": {
    "scrolled": true,
    "tags": []
   },
   "outputs": [],
   "source": [
    "# ppdiffusers>=0.24.0\"\n",
    "import numpy as np\n",
    "import cv2\n",
    "import re\n",
    "from PIL import Image\n",
    "import paddle\n",
    "from ppdiffusers import (\n",
    "    ControlNetModel, \n",
    "    StableDiffusionXLControlNetPipeline,\n",
    "    AutoencoderKL, \n",
    "\t# UNet2DConditionModel, \n",
    "\tEulerAncestralDiscreteScheduler, \n",
    "    KDPM2AncestralDiscreteScheduler, \n",
    "    KDPM2DiscreteScheduler\n",
    ")\n",
    "from ppdiffusers.utils import load_image, make_image_grid\n",
    "\n",
    "# load controlnet\n",
    "controlnet = ControlNetModel.from_pretrained(\"diffusers/controlnet-canny-sdxl-1.0\")\n",
    "\n",
    "pipe = StableDiffusionXLControlNetPipeline.from_pretrained(\n",
    "    \"SG161222/RealVisXL_V3.0\", \n",
    "    paddle_dtype=paddle.float16, \n",
    "    safety_checker=None, \n",
    "    variant=\"fp16\",\n",
    "    controlnet=controlnet, \n",
    "    low_cpu_mem_usage=True\n",
    ")\n",
    "\n",
    "# denoise策略\n",
    "pipe.scheduler = EulerAncestralDiscreteScheduler.from_config(pipe.scheduler.config)\n",
    "\n",
    "# 开启 xformers\n",
    "pipe.enable_xformers_memory_efficient_attention()\n",
    "\n",
    "# 定义prompt\n",
    "prompt = [\n",
    "    \"full body shot of a pretty Korean woman, red sweater\",\n",
    "    \"<lora:2>Beautiful girl, delicate, peerless face, delicate eyes, off-the-shoulder dress, pink, cherry blossoms, detailed light effect rendering, high-definition picture, beautiful two-dimensional.\", \n",
    "][-1]\n",
    "negative_prompt = [\n",
    "    'low quality, bad quality, sketches, blurry',\n",
    "    \"nsfw\",\n",
    "][-1]\n",
    "\n",
    "pipe.unfuse_lora() # 每次加载时清空lora\n",
    "lora = \"./static/lora/LYS_真实感模型_SDXL_v1.0.safetensors\"  # 模型所在目录\n",
    "try:  # lora目前无法调整的权重\n",
    "    # 提取 lora 缩放比例  \n",
    "    pattern_scale = re.compile(r\"<lora:(-?\\d*\\.?\\d*)>\")  \n",
    "    lora_scales = re.findall(pattern_scale, prompt)  \n",
    "    if lora_scales:  \n",
    "        lora_scale = float(lora_scales[0])  \n",
    "    else:  \n",
    "        lora_scale = 0  \n",
    "  \n",
    "    # 移除所有 <*> 格式的内容  \n",
    "    prompt = re.sub(r\"<.*?>\", \"\", prompt)  \n",
    "  \n",
    "    # 加载lora权重和设置lora比例\n",
    "    pipe.load_lora_weights(lora, from_diffusers=True, from_hf_hub=True,)  \n",
    "    pipe.fuse_lora(lora_scale)  \n",
    "except Exception as e:  \n",
    "    print(\"加载lora时发生错误：\", e)\n",
    "print(\"prompt:\",prompt, \"\\n\", \"lora scale is \", lora_scale)\n",
    "\n",
    "\n",
    "# 随机种子\n",
    "generator = paddle.Generator().manual_seed(42)\n",
    "\n",
    "# controlnet权重系数\n",
    "controlnet_conditioning_scale=0.5\n",
    "\n",
    "# controlnet参考图\n",
    "image = load_image(\n",
    "    \"./static/bc.jpg\"\n",
    ")\n",
    "# controlnet图生成线稿\n",
    "image = np.array(image)\n",
    "image = cv2.Canny(image, 100, 200)\n",
    "image = image[:, :, None]\n",
    "image = np.concatenate([image, image, image], axis=2)\n",
    "image = Image.fromarray(image)\n",
    "\n",
    "image = pipe(\n",
    "    prompt,  \n",
    "    negative_prompt=negative_prompt, \n",
    "    width=1024, \n",
    "    height=768, \n",
    "    image=image,\n",
    "    num_inference_steps=30,\n",
    "    guidance_scale=4,\n",
    "    num_images_per_prompt=1,\n",
    "    generator=generator, \n",
    "    controlnet_conditioning_scale=controlnet_conditioning_scale, \n",
    ").images\n",
    "\n",
    "# 保存图片\n",
    "batch_save(image, base_fn='bcsz', suffix='png')\n",
    "\n",
    "# 生成网格化展示内容\n",
    "img = make_image_grid(image, rows=1, cols=1)\n",
    "# 网格化展示\n",
    "img"
   ]
  },
  {
   "cell_type": "code",
   "execution_count": null,
   "id": "3576f003-cc27-40b8-b172-27cddfdb0b1e",
   "metadata": {
    "scrolled": true,
    "tags": []
   },
   "outputs": [],
   "source": [
    "import gc  \n",
    "del pipe, img, controlnet, image\n",
    "gc.collect()\n",
    "paddle.device.cuda.empty_cache()"
   ]
  },
  {
   "cell_type": "markdown",
   "id": "afa8cb08-ee28-4e27-b063-9ea7aeb93943",
   "metadata": {},
   "source": [
    "## 超分\n",
    "\n",
    "切块处理大图，可以放大任意尺寸。\n",
    "\n",
    "**StableDiffusion sr**块的大小 `size=(256,256)` ，适合256左右小而模糊的图片`method=\"sd\"`。\n",
    "\n",
    "**paddle srgan** 块的大小 `size=(1560,1560)`，效率远高于sdsr，适合生成图的放大，默认为`method=\"df2k\"`,\n",
    "\n",
    "`method=\"drn\"`质量低，但色彩明亮。"
   ]
  },
  {
   "cell_type": "code",
   "execution_count": null,
   "id": "128436dd-ec7f-4ddf-aa4e-b10bee12a07d",
   "metadata": {
    "scrolled": true,
    "tags": []
   },
   "outputs": [],
   "source": [
    "# # WebUI中的超分函数测试[\"df2k\", \"drn\", \"esrgan\", \"lesr\", \"sd\"]\n",
    "from PIL import Image\n",
    "from utils.upscale import upscale_x4\n",
    "\n",
    "img_path = upscale_x4(\"./static/bcsz_0.png\", method=\"df2k\", size=(512, 512), suffix='jpg', output_dir=\"./out_puts\")\n",
    "Image.open(img_path[0])"
   ]
  },
  {
   "cell_type": "markdown",
   "id": "10ba3efb-655c-49dd-ae5c-ceb6e7369461",
   "metadata": {},
   "source": [
    "## 模型转换\n",
    "由torch权重转换而来，这里转换模型后可以在WebUI中使用。"
   ]
  },
  {
   "cell_type": "code",
   "execution_count": null,
   "id": "90e11e0e-c74e-4767-a07f-a818abbcef07",
   "metadata": {
    "scrolled": true
   },
   "outputs": [],
   "source": [
    "# # 待转换pytorch模型路径在此修改--多组件权重\n",
    "# !python convert_pt_2_pd/convert_pt_2_pd.py \\\n",
    "#     --model_name=animagine-xl-2.0\n"
   ]
  },
  {
   "cell_type": "code",
   "execution_count": null,
   "id": "a637b8c6-7e5b-4e1a-80fe-25a4ca1d893f",
   "metadata": {
    "scrolled": true,
    "tags": []
   },
   "outputs": [],
   "source": [
    "# # 单文件权重\n",
    "# !python convert_single_weight_pt_2_pd/convert_key.py \\\n",
    "#     --model_name=/home/aistudio/data/data270713/pony_pencil-XL-v1.0.2.safetensors"
   ]
  },
  {
   "cell_type": "code",
   "execution_count": null,
   "id": "779bbbca-5e5e-4b50-a160-a45bc2e0431f",
   "metadata": {
    "scrolled": true,
    "tags": []
   },
   "outputs": [],
   "source": [
    "# 模型测测试\n",
    "import warnings  \n",
    "warnings.filterwarnings(\"ignore\")\n",
    "\n",
    "import warnings  \n",
    "warnings.filterwarnings(\"ignore\")\n",
    "import paddle, os, sys\n",
    "from ppdiffusers import (\n",
    "    StableDiffusionXLPipeline,\n",
    "    StableDiffusionXLImg2ImgPipeline, \n",
    "    EulerAncestralDiscreteScheduler, \n",
    "    StableDiffusionXLInpaintPipeline,\n",
    "    UNet2DConditionModel\n",
    ")\n",
    "\n",
    "base_model_path = [\n",
    "    \"./Pony_Pencil-Xl-V1.0.2\", \n",
    "][-1]\n",
    "\n",
    "text2img = StableDiffusionXLPipeline.from_pretrained(\n",
    "    pretrained_model_name_or_path=base_model_path,\n",
    "    paddle_dtype=paddle.float16,\n",
    "    low_cpu_mem_usage=True, \n",
    ")\n",
    "\n",
    "text2img.scheduler = EulerAncestralDiscreteScheduler.from_config(text2img.scheduler.config)\n",
    "  \n",
    "# 使用与text2img相同的组件初始化图像到图像pipeline\n",
    "img2img = StableDiffusionXLImg2ImgPipeline(**text2img.components)  \n",
    "\n",
    "# 使用与text2img相同的组件初始化图像修复pipeline\n",
    "inpaint = StableDiffusionXLInpaintPipeline(**text2img.components)\n",
    "\n",
    "prompt = \"A pretty young woman with silky golden hair that shines with a captivating glow in the sunlight. Her eyes are deep like the sea, revealing boundless wisdom and tenderness. Her face is exquisite, with skin as white as jade, and a confident smile always plays at the corners of her mouth. She wears a simple yet elegant long dress, its hem fluttering gently, as if carrying a touch of ethereal charm. Her posture is upright, her gait composed, and wherever she goes, she becomes the focal point of attention. There's a unique charm about her that involuntarily draws people in.\"\n",
    "negative_prompt = \"lowres, bad anatomy, bad hands, text, error, missing fingers, extra digit, fewer digits, cropped, worst quality, low quality, normal quality, jpeg artifacts, signature, watermark, username, blurry\"\n",
    "\n",
    "text2img(\n",
    "    prompt, \n",
    "    negative_prompt=negative_prompt, \n",
    "    num_inference_steps=20,  \n",
    "    guidance_scale=5, \n",
    "    # generator= paddle.Generator().manual_seed(42) \n",
    ")[0][0]"
   ]
  },
  {
   "cell_type": "code",
   "execution_count": null,
   "id": "26e535a5-99ad-4526-b343-4eec8477cb22",
   "metadata": {
    "scrolled": true,
    "tags": []
   },
   "outputs": [],
   "source": [
    "import gc\n",
    "del text2img, img2img, inpaint\n",
    "gc.collect()\n",
    "paddle.device.cuda.empty_cache()"
   ]
  },
  {
   "cell_type": "markdown",
   "id": "380669de-7b5a-475c-8ec9-c0b51d1e57a2",
   "metadata": {},
   "source": [
    "<h2><font style=\"background: linear-gradient(to right,gold, red,pink, green);-webkit-background-clip: text;-webkit-text-fill-color: transparent;\">IPAdapterPlusXL</font></h2>\n",
    "\n",
    "与Photomaker和InstantX/InstantID 功能相似。\n",
    "模型效果(左图输出，右图输入)\n",
    "\n",
    "![](https://ai-studio-static-online.cdn.bcebos.com/59f82054242f4d04b433c515ab58e527a2d2901eca94434a97565cf8a5f395ac)\n"
   ]
  },
  {
   "cell_type": "code",
   "execution_count": null,
   "id": "74006e96-a735-4a09-9800-cc32d795cdff",
   "metadata": {
    "scrolled": true,
    "tags": []
   },
   "outputs": [],
   "source": [
    "import warnings  \n",
    "# 忽略特定警告，调试勿开启此项\n",
    "warnings.filterwarnings(\"ignore\") \n",
    "\n",
    "from PIL import Image\n",
    "import paddle\n",
    "import os\n",
    "from ppdiffusers import (\n",
    "        StableDiffusionXLPipeline, \n",
    "        DDIMScheduler, \n",
    "        EulerAncestralDiscreteScheduler,\n",
    "        StableDiffusionXLImg2ImgPipeline,\n",
    "    )\n",
    "from ppdiffusers.utils import load_image, make_image_grid, smart_load\n",
    "from safetensors.paddle import load_file\n",
    "# 导入自定义类\n",
    "from utils.ip_adapter import IPAdapterPlusXL, StableDiffusionXLCustomPipeline\n",
    "\n",
    "HOME_DIR = os.path.expanduser('~')\n",
    "\n",
    "# 图片展示\n",
    "def image_grid(imgs, rows, cols):\n",
    "    assert len(imgs) == rows*cols\n",
    "\n",
    "    w, h = imgs[0].size\n",
    "    grid = Image.new('RGB', size=(cols*w, rows*h))\n",
    "    grid_w, grid_h = grid.size\n",
    "    \n",
    "    for i, img in enumerate(imgs):\n",
    "        grid.paste(img, box=(i%cols*w, i//cols*h))\n",
    "    return grid\n",
    "\n",
    "# 加载模型\n",
    "base_model_path = [\"SG161222/RealVisXL_V3.0\", \"./Pony_Pencil-Xl-V1.0.2\"][-1]\n",
    "image_encoder_path = [\n",
    "    \"laion/CLIP-ViT-H-14-laion2B-s32B-b79K\", \n",
    "][-1]\n",
    "ip_ckpt = [\n",
    "    os.path.join(HOME_DIR, \"data/data264879/ip-adapter-plus-face_sdxl_vit-h.bin\"), #挂载的数据集路径\n",
    "    \"ip-adapter/ip-adapter-plus-face_sdxl_vit-h.safetensors\",\n",
    "][-1] \n",
    "\n",
    "noise_scheduler = DDIMScheduler(\n",
    "    num_train_timesteps=1000,\n",
    "    beta_start=0.00085,\n",
    "    beta_end=0.012,\n",
    "    beta_schedule=\"scaled_linear\",\n",
    "    clip_sample=False,\n",
    "    set_alpha_to_one=False,\n",
    "    steps_offset=1,\n",
    ")\n",
    "pipe = StableDiffusionXLCustomPipeline.from_pretrained( #plus\n",
    "    base_model_path, \n",
    "    paddle_dtype=paddle.float16, \n",
    "    variant=\"fp16\", \n",
    "    # scheduler=noise_scheduler,\n",
    "    low_cpu_mem_usage=True,\n",
    ")\n",
    "pipe.enable_xformers_memory_efficient_attention()\n",
    "\n",
    "ip_model = IPAdapterPlusXL(\n",
    "    pipe, \n",
    "    ip_ckpt=ip_ckpt, \n",
    "    image_encoder_path=image_encoder_path,\n",
    "    device=paddle.get_device(), \n",
    "    num_tokens=16\n",
    ")"
   ]
  },
  {
   "cell_type": "code",
   "execution_count": null,
   "id": "96f4468f-1cef-49b4-aa6d-c8c4a4d4fa06",
   "metadata": {
    "scrolled": true,
    "tags": []
   },
   "outputs": [],
   "source": [
    "ref_image = Image.open(\"./static/img_ipadapter.png\")\n",
    "# 只要脸部特征并调整大小(224, 224)\n",
    "ref_image1 = ref_image.crop((\n",
    "    ref_image.size[0]*0.1,  # x left\n",
    "    0,  # y top\n",
    "    ref_image.size[0]*0.1+ref_image.size[1]*0.45,  # x right\n",
    "    ref_image.size[1]*0.45  # y bottom\n",
    ")).resize((224, 224))\n",
    "\n",
    "imgs = [ref_image, ref_image1]\n",
    "rows = 1\n",
    "image_grid(imgs, rows=rows, cols=len(imgs)//rows + (len(imgs)%rows!=0))\n",
    "\n",
    "paddle.device.cuda.empty_cache()\n",
    "prompt = [\n",
    "    \"A beautiful girl wearing Sun Dress are loking at viewer in garden\",\n",
    "][-1]\n",
    "negative_prompt = \"low quality, ugly, blurry, opened mouth\"\n",
    "\n",
    "image = ip_model.generate(\n",
    "    pil_image=ref_image1,  # crop and resize image\n",
    "    control_guidance_start=0., # 控制姿势，值越小越接近原图\n",
    "    control_guidance_end=0.8,\n",
    "    scale=1,  # 值越小与原图差异越大\n",
    "    prompt=prompt, \n",
    "    negative_prompt=negative_prompt,\n",
    "    num_samples=1, \n",
    "    num_inference_steps=30, \n",
    "    guidance_scale=5, \n",
    "    seed=42,\n",
    "    eta=0.3, # 只有使用DDIMScheduler才有效\n",
    ").images\n",
    "paddle.device.cuda.empty_cache()\n",
    "\n",
    "# 展示图片\n",
    "imgs = [image[0], ref_image]\n",
    "rows = 1\n",
    "image_grid(imgs, rows=rows, cols=len(imgs)//rows + (len(imgs)%rows!=0))\n"
   ]
  },
  {
   "cell_type": "code",
   "execution_count": null,
   "id": "8127b897-8bc9-4212-a4b1-1b0782aff565",
   "metadata": {
    "scrolled": true,
    "tags": []
   },
   "outputs": [],
   "source": [
    "import gc\n",
    "del ip_model, pipe\n",
    "gc.collect()\n",
    "paddle.device.cuda.empty_cache()"
   ]
  },
  {
   "cell_type": "markdown",
   "id": "7608cf38-102a-49bb-980c-81926bfbf7bb",
   "metadata": {},
   "source": [
    "### Face Adpater\n",
    "\n",
    "\n",
    "![src+face=result](https://ai-studio-static-online.cdn.bcebos.com/cccacfc3be334672b046f6107516cbf497ad66468594490aa53bc8937d3e873e)\n"
   ]
  },
  {
   "cell_type": "code",
   "execution_count": null,
   "id": "514e806c-0f72-4905-b04b-c3baf7e4e9d1",
   "metadata": {
    "scrolled": true,
    "tags": []
   },
   "outputs": [],
   "source": [
    "import warnings  \n",
    "# 忽略特定警告  \n",
    "warnings.filterwarnings(\"ignore\") \n",
    "\n",
    "import paddle\n",
    "import os\n",
    "from ppdiffusers import (\n",
    "        StableDiffusionXLPipeline, \n",
    "        DDIMScheduler, \n",
    "        EulerAncestralDiscreteScheduler, \n",
    "        StableDiffusionXLImg2ImgPipeline,\n",
    "        StableDiffusionXLInpaintPipeline\n",
    "    )\n",
    "from ppdiffusers.utils import load_image, make_image_grid, smart_load\n",
    "from safetensors.paddle import load_file\n",
    "# 导入自定义类\n",
    "from utils.ip_adapter import IPAdapterPlusXL\n",
    "\n",
    "HOME_DIR = os.path.expanduser('~')\n",
    "\n",
    "# 加载模型\n",
    "base_model_path = [\"SG161222/RealVisXL_V3.0\", \"./Pony_Pencil-Xl-V1.0.2\"][-1]\n",
    "image_encoder_path = [\n",
    "    \"laion/CLIP-ViT-H-14-laion2B-s32B-b79K\", \n",
    "][-1]\n",
    "ip_ckpt = [\n",
    "    os.path.join(HOME_DIR, \"data/data264879/ip-adapter-plus-face_sdxl_vit-h.bin\"), #挂载的数据集路径\n",
    "    \"ip-adapter/ip-adapter-plus-face_sdxl_vit-h.safetensors\",\n",
    "][-1] \n",
    "\n",
    "noise_scheduler = DDIMScheduler(\n",
    "    num_train_timesteps=1000,\n",
    "    beta_start=0.00085,\n",
    "    beta_end=0.012,\n",
    "    beta_schedule=\"scaled_linear\",\n",
    "    clip_sample=False,\n",
    "    set_alpha_to_one=False,\n",
    "    steps_offset=1,\n",
    ")\n",
    "pipe = StableDiffusionXLImg2ImgPipeline.from_pretrained( #plus\n",
    "    base_model_path, \n",
    "    paddle_dtype=paddle.float16, \n",
    "    variant=\"fp16\", \n",
    "    # scheduler=noise_scheduler,\n",
    "    low_cpu_mem_usage=True,\n",
    ")\n",
    "\n",
    "# pipe.scheduler = EulerAncestralDiscreteScheduler.from_config(pipe.scheduler.config)\n",
    "\n",
    "pipe.enable_xformers_memory_efficient_attention()\n",
    "\n",
    "ip_model = IPAdapterPlusXL(\n",
    "    pipe, \n",
    "    ip_ckpt=ip_ckpt, \n",
    "    image_encoder_path=image_encoder_path,\n",
    "    device=paddle.get_device(), \n",
    "    num_tokens=16\n",
    ").generate"
   ]
  },
  {
   "cell_type": "code",
   "execution_count": null,
   "id": "44ef38ba-4033-4d42-86ac-7e4e026e997c",
   "metadata": {
    "scrolled": true,
    "tags": []
   },
   "outputs": [],
   "source": [
    "src_image = load_image(\"./static/text_691436129_ddpm_30_4_0_1712919483.194813.png\")\n",
    "face_image = load_image(\"./static/img_ipadapter.png\")\n",
    "# 裁剪面部特征\n",
    "face_image1 = face_image.crop((face_image.size[0]*0.1, 0, face_image.size[0]*0.1+face_image.size[1]*0.42, face_image.size[1]*0.42)).resize((224, 224))\n",
    "\n",
    "prompt = [\n",
    "    \"A beautiful Chinese girl wearing Sun Dress are loking at viewer\",\n",
    "][-1]\n",
    "negative_prompt = \"low quality, ugly, blurry\"\n",
    "\n",
    "image = ip_model(\n",
    "    pil_image=face_image1, \n",
    "    image=src_image,\n",
    "    prompt=prompt, \n",
    "    negative_prompt=negative_prompt,\n",
    "    scale=0.75, # 脸部参考图比重\n",
    "    strength= 0.3, # 重绘步数 = num_inference_steps * strength\n",
    "    num_samples=1, \n",
    "    num_inference_steps=30, \n",
    "    guidance_scale=4, \n",
    "    seed=42,\n",
    ").images\n",
    "\n",
    "paddle.device.cuda.empty_cache()\n",
    "\n",
    "# 展示图片\n",
    "from PIL import Image\n",
    "def image_grid(imgs, rows, cols, figure_size=368):\n",
    "    assert len(imgs) == rows*cols\n",
    "\n",
    "    grid = Image.new('RGB', size=(cols*figure_size, rows*figure_size))\n",
    "    \n",
    "    for i, img in enumerate(imgs):\n",
    "        w, h = img.size\n",
    "        scale = figure_size/max(w, h)\n",
    "        img = img.resize((int(w*scale), int(h*scale)))\n",
    "        grid.paste(img, box=(i%cols*figure_size, i//cols*figure_size))\n",
    "    return grid\n",
    "imgs = [src_image, face_image, image[0]]\n",
    "image_grid(imgs, rows=1, cols=len(imgs))"
   ]
  },
  {
   "cell_type": "code",
   "execution_count": null,
   "id": "537b8419-74ee-4c53-b18c-5859beb1dd55",
   "metadata": {
    "scrolled": true,
    "tags": []
   },
   "outputs": [],
   "source": [
    "# 释放内存，GPU有效\n",
    "import gc\n",
    "del ip_model, pipe\n",
    "gc.collect()\n",
    "paddle.device.cuda.empty_cache()"
   ]
  },
  {
   "cell_type": "markdown",
   "id": "66517dca-03cf-4fd0-af1b-e5ae3077fc99",
   "metadata": {},
   "source": [
    "<h2><font style=\"background: linear-gradient(to right,gold, red,pink, green);-webkit-background-clip: text;-webkit-text-fill-color: transparent;\">WebUI</font></h2>\n",
    "\n",
    "*先运行测试！*\n",
    "\n",
    "运行webui前***重启内核***！\n",
    "双击运行`webui.gradio.py`（controlnet cany使用） 或 `webui_adapter.gradio.py` （Gradio UI的Face Image输入模块点击编辑裁剪出脸部特征）即可,二者只可选一运行。"
   ]
  },
  {
   "cell_type": "code",
   "execution_count": null,
   "id": "77d3dfde-406c-4c70-a030-094b54161157",
   "metadata": {
    "scrolled": true,
    "tags": []
   },
   "outputs": [],
   "source": [
    "# 测试webui\n",
    "!python webui_adapter.gradio.py"
   ]
  },
  {
   "cell_type": "code",
   "execution_count": null,
   "id": "bbf7b28b-96ec-40c6-b8c5-4ed9dc9f999d",
   "metadata": {
    "scrolled": true,
    "tags": []
   },
   "outputs": [],
   "source": [
    "# 重启内核\n",
    "!python webui.gradio.py"
   ]
  },
  {
   "cell_type": "markdown",
   "id": "45637cb6-fae9-4c90-b953-ea40bc70ef92",
   "metadata": {},
   "source": [
    "## Lora 训练\n",
    "\n",
    "重启内核！"
   ]
  },
  {
   "cell_type": "code",
   "execution_count": null,
   "id": "cd48c95e-7e34-43ad-a2b0-384d7f58e662",
   "metadata": {
    "scrolled": true,
    "tags": []
   },
   "outputs": [],
   "source": [
    "!git clone https://gitee.com/Covirtue/PaddleMIX.git\n",
    "# 官方的PaddleMIX中，train_dreambooth_lora_sdxl.py：1643存在bug，\n",
    "# 每次保存checkpoint后会导致显存不足错误这里使用我修改过的代码"
   ]
  },
  {
   "cell_type": "code",
   "execution_count": null,
   "id": "2cb1c290-6613-4fb6-9c4d-5d0f48b052e5",
   "metadata": {
    "scrolled": true,
    "tags": []
   },
   "outputs": [],
   "source": [
    "import os\n",
    "# lr_scheduler option selected: [\"linear\", \"cosine\", \"cosine_with_restarts\", \"polynomial\", \"constant\", \"constant_with_warmup\"]\n",
    "os.makedirs(\"lora_trained_xl\", exist_ok=True)\n",
    "!rm -r ./beauty/dlrb/.ipynb_checkpoints\n",
    "!python PaddleMIX/ppdiffusers/examples/dreambooth/train_dreambooth_lora_sdxl.py \\\n",
    "  --pretrained_model_name_or_path=stabilityai/stable-diffusion-xl-base-1.0 \\\n",
    "  --instance_data_dir=beauty/dlrb \\\n",
    "  --output_dir=lora_trained_xl \\\n",
    "  --mixed_precision=\"fp16\" \\\n",
    "  --instance_prompt=\"a shot of customDlrb\" \\\n",
    "  --resolution=1024 \\\n",
    "  --train_batch_size=2 \\\n",
    "  --gradient_accumulation_steps=4 \\\n",
    "  --learning_rate=1.125e-4 \\\n",
    "  --lr_scheduler=\"cosine\" \\\n",
    "  --lr_warmup_steps=10 \\\n",
    "  --max_train_steps=500 \\\n",
    "  --validation_epochs=20 \\\n",
    "  --seed=\"42\" \\\n",
    "  --checkpointing_steps=100 \\\n",
    "  --variant=\"fp16\" \\\n",
    "  --rank=4 # 默认为4(22MB)，32(177MB)或者64(354MB)\n",
    "  # --validation_prompt=\"a shot of customDlrb\" \\\n",
    "  \n",
    "  "
   ]
  },
  {
   "cell_type": "code",
   "execution_count": null,
   "id": "970aa37c-1285-4306-a88f-d09d86e28c43",
   "metadata": {
    "scrolled": true,
    "tags": []
   },
   "outputs": [],
   "source": [
    "# load model\n",
    "import paddle\n",
    "from ppdiffusers import (\n",
    "    AutoencoderKL, \n",
    "    DDPMScheduler, \n",
    "    EulerAncestralDiscreteScheduler, \n",
    "    EulerDiscreteScheduler, \n",
    "    KDPM2AncestralDiscreteScheduler, \n",
    "    StableDiffusionXLPipeline, \n",
    "    UNet2DConditionModel, \n",
    ")\n",
    "\n",
    "\n",
    "pipe = StableDiffusionXLPipeline.from_pretrained(\n",
    "    # \"SG161222/RealVisXL_V3.0\", \n",
    "    \"stabilityai/stable-diffusion-xl-base-1.0\", \n",
    "    paddle_dtype=paddle.float16, \n",
    "    variant=\"fp16\",\n",
    "    safety_checker=None, \n",
    ")\n",
    "\n",
    "# pipe.scheduler = EulerDiscreteScheduler.from_config(pipe.scheduler.config)"
   ]
  },
  {
   "cell_type": "code",
   "execution_count": null,
   "id": "e7b8b17c-5644-4fb7-a518-3b8b674e73b3",
   "metadata": {
    "scrolled": true,
    "tags": []
   },
   "outputs": [],
   "source": [
    "# lora测试\n",
    "pipe.unfuse_lora()\n",
    "# 加载lora\n",
    "pipe.load_lora_weights(\"lora_trained_xl/checkpoint-500/paddle_lora_weights.safetensors\")\n",
    "# pipe.load_lora_weights(\"lora_trained_xl/paddle_lora_weights.safetensors\")"
   ]
  },
  {
   "cell_type": "code",
   "execution_count": null,
   "id": "746ea086-58ef-49fa-9177-5001edb0036a",
   "metadata": {
    "scrolled": true,
    "tags": []
   },
   "outputs": [],
   "source": [
    "prompt = [\n",
    "    \"full body shot, a beautiful woman with delicate face and long hair, wearing red dress.\", \n",
    "][-1]\n",
    "\n",
    "prompt_2 = [\n",
    "    \"a shot of customDlrb\",\n",
    "    None, \n",
    "][-1]\n",
    "\n",
    "prompt_1 = [\n",
    "    prompt, \n",
    "    prompt + prompt_2, \n",
    "]\n",
    "\n",
    "negative_prompt = [\n",
    "    \"anything anomaly, bad nails, bad hands:1.2, shortten fingers, bad legs, strech fingers, bad fingers:1.2, bad nails:1.3, low quality, blurry, ugly, bad face, bad eyes, bad toes, bad feet\", \n",
    "    \"username, watermark, texts, anomal, extra, bad nails, nsfw, bad hands, shortten fingers, bad legs, strech fingers, bad fingers:1.2, bad nails:1.3, low quality, blurry, ugly face, bad face, bad eyes, bad toes, bad feet\", \n",
    "][-1]"
   ]
  },
  {
   "cell_type": "code",
   "execution_count": null,
   "id": "108385c1-600c-4f8f-bf5f-38e8cab44ebd",
   "metadata": {
    "scrolled": true,
    "tags": []
   },
   "outputs": [],
   "source": [
    "# 两种不同方式的prompt\n",
    "idx = -1\n",
    "image1 = pipe(\n",
    "    prompt=prompt_1[idx], \n",
    "    prompt_2=prompt_2[idx], \n",
    "    negative_prompt=negative_prompt,\n",
    "    num_inference_steps=30, \n",
    "    width=768, \n",
    "    height=1280, \n",
    "    guidance_scale=5,\n",
    "    # generator=paddle.Generator().manual_seed(42)\n",
    ").images[0]\n",
    "\n",
    "\n",
    "idx = -2\n",
    "image2 = pipe(\n",
    "    prompt=prompt_2[idx], \n",
    "    prompt_2=prompt_1[idx], \n",
    "    negative_prompt=negative_prompt,\n",
    "    num_inference_steps=30, \n",
    "    width=768, \n",
    "    height=1280, \n",
    "    guidance_scale=7,\n",
    "    guidance_rescale=1.3,\n",
    "    # generator=paddle.Generator().manual_seed(42)\n",
    ").images[0]\n",
    "\n",
    "paddle.device.cuda.empty_cache()\n",
    "\n",
    "from ppdiffusers.utils import image_grid\n",
    "image_grid([image1, image2], 1, 2)\n"
   ]
  },
  {
   "cell_type": "code",
   "execution_count": null,
   "id": "f0d1c005-d0e2-471c-80c5-7961766d3581",
   "metadata": {
    "scrolled": true,
    "tags": []
   },
   "outputs": [],
   "source": [
    "# 释放内存，GPU有效\n",
    "import gc\n",
    "del pipe\n",
    "paddle.device.cuda.empty_cache()"
   ]
  }
 ],
 "metadata": {
  "kernelspec": {
   "display_name": "Python 3",
   "language": "python",
   "name": "py35-paddle1.2.0"
  },
  "language_info": {
   "codemirror_mode": {
    "name": "ipython",
    "version": 3
   },
   "file_extension": ".py",
   "mimetype": "text/x-python",
   "name": "python",
   "nbconvert_exporter": "python",
   "pygments_lexer": "ipython3",
   "version": "3.10.10"
  },
  "toc-autonumbering": false,
  "vscode": {
   "interpreter": {
    "hash": "09f0dbf7b1569c1ab842ae2f41770fe6aa1b54326d081112fa5944b99abb5899"
   }
  }
 },
 "nbformat": 4,
 "nbformat_minor": 5
}
