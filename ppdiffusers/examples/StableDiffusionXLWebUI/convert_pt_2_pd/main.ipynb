{
 "cells": [
  {
   "cell_type": "markdown",
   "id": "aa63ec1d-3bcc-47fa-ae79-b2891d74563d",
   "metadata": {},
   "source": [
    "##  使用示例"
   ]
  },
  {
   "cell_type": "code",
   "execution_count": null,
   "id": "2386dc12-a6b4-42bb-9497-914ee28a81cb",
   "metadata": {
    "scrolled": true
   },
   "outputs": [],
   "source": [
    "import sys, os\n",
    "import paddle\n",
    "from safetensors import safe_open\n",
    "\n",
    "# 待转换pytorch（七个components）模型目录在此修改\n",
    "model_torch_name = [\n",
    "    \"./animagine-xl-2.0\", \n",
    "][-1]\n",
    "!python convert_pt_2_pd.py --model_name=$model_torch_name\n"
   ]
  }
 ],
 "metadata": {
  "kernelspec": {
   "display_name": "Python 3",
   "language": "python",
   "name": "py35-paddle1.2.0"
  },
  "language_info": {
   "codemirror_mode": {
    "name": "ipython",
    "version": 3
   },
   "file_extension": ".py",
   "mimetype": "text/x-python",
   "name": "python",
   "nbconvert_exporter": "python",
   "pygments_lexer": "ipython3",
   "version": "3.10.10"
  }
 },
 "nbformat": 4,
 "nbformat_minor": 5
}
