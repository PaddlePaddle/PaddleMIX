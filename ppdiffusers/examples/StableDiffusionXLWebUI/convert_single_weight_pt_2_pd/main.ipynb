{
 "cells": [
  {
   "cell_type": "code",
   "execution_count": null,
   "id": "b59b2dfe-0866-4408-b897-4b57e5aed09f",
   "metadata": {
    "scrolled": true,
    "tags": []
   },
   "outputs": [],
   "source": [
    "import sys, os\n",
    "import paddle\n",
    "from safetensors import safe_open\n",
    "\n",
    "# 权重转换 --model_name [模型路径]\n",
    "!python convert_key.py --model_name data/data268105/animagine-xl-3.1.safetensors"
   ]
  }
 ],
 "metadata": {
  "kernelspec": {
   "display_name": "Python 3",
   "language": "python",
   "name": "py35-paddle1.2.0"
  },
  "language_info": {
   "codemirror_mode": {
    "name": "ipython",
    "version": 3
   },
   "file_extension": ".py",
   "mimetype": "text/x-python",
   "name": "python",
   "nbconvert_exporter": "python",
   "pygments_lexer": "ipython3",
   "version": "3.10.10"
  }
 },
 "nbformat": 4,
 "nbformat_minor": 5
}
